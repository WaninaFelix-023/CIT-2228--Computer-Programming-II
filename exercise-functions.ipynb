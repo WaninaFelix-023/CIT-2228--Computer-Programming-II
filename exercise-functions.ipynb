{
 "cells": [
  {
   "cell_type": "markdown",
   "id": "5583c213",
   "metadata": {
    "papermill": {
     "duration": 0.005379,
     "end_time": "2025-02-26T09:32:05.749051",
     "exception": false,
     "start_time": "2025-02-26T09:32:05.743672",
     "status": "completed"
    },
    "tags": []
   },
   "source": [
    "**This notebook is an exercise in the [Intro to Programming](https://www.kaggle.com/learn/intro-to-programming) course.  You can reference the tutorial at [this link](https://www.kaggle.com/alexisbcook/functions).**\n",
    "\n",
    "---\n"
   ]
  },
  {
   "cell_type": "markdown",
   "id": "dc93cfe0",
   "metadata": {
    "papermill": {
     "duration": 0.0049,
     "end_time": "2025-02-26T09:32:05.759081",
     "exception": false,
     "start_time": "2025-02-26T09:32:05.754181",
     "status": "completed"
    },
    "tags": []
   },
   "source": [
    "In the tutorial, you learned about functions. In this exercise, you'll write some of your own!\n",
    "\n",
    "# Set up the notebook\n",
    "\n",
    "Run the next code cell without changes to set up the notebook."
   ]
  },
  {
   "cell_type": "code",
   "execution_count": 1,
   "id": "bbcbfa4c",
   "metadata": {
    "execution": {
     "iopub.execute_input": "2025-02-26T09:32:05.770163Z",
     "iopub.status.busy": "2025-02-26T09:32:05.769785Z",
     "iopub.status.idle": "2025-02-26T09:32:06.788755Z",
     "shell.execute_reply": "2025-02-26T09:32:06.787304Z"
    },
    "papermill": {
     "duration": 1.026913,
     "end_time": "2025-02-26T09:32:06.790970",
     "exception": false,
     "start_time": "2025-02-26T09:32:05.764057",
     "status": "completed"
    },
    "tags": []
   },
   "outputs": [
    {
     "name": "stdout",
     "output_type": "stream",
     "text": [
      "Setup complete.\n"
     ]
    }
   ],
   "source": [
    "# Set up the exercise\n",
    "import math\n",
    "from learntools.core import binder\n",
    "binder.bind(globals())\n",
    "from learntools.intro_to_programming.ex2 import *\n",
    "print('Setup complete.')"
   ]
  },
  {
   "cell_type": "markdown",
   "id": "3ed35715",
   "metadata": {
    "papermill": {
     "duration": 0.006327,
     "end_time": "2025-02-26T09:32:06.806255",
     "exception": false,
     "start_time": "2025-02-26T09:32:06.799928",
     "status": "completed"
    },
    "tags": []
   },
   "source": [
    "# Question 1\n",
    "\n",
    "In the [House Prices - Advanced Regression Techniques competition](https://www.kaggle.com/c/house-prices-advanced-regression-techniques/overview), you need to use information like the number of bedrooms and bathrooms to predict the price of a house.  Inspired by this competition, you'll write your own function to do this.\n",
    "\n",
    "In the next code cell, create a function `get_expected_cost()` that has two arguments:\n",
    "- `beds` - number of bedrooms \n",
    "- `baths` - number of bathrooms\n",
    "\n",
    "It should return the expected cost of a house with that number of bedrooms and bathrooms.  Assume that:\n",
    "- the expected cost for a house with 0 bedrooms and 0 bathrooms is `80000`.  \n",
    "- each bedroom adds `30000` to the expected cost\n",
    "- each bathroom adds `10000` to the expected cost.\n",
    "\n",
    "For instance, \n",
    "- a house with 1 bedroom and 1 bathroom has an expected cost of `120000`, and \n",
    "- a house with 2 bedrooms and 1 bathroom has an expected cost of `150000`."
   ]
  },
  {
   "cell_type": "code",
   "execution_count": 2,
   "id": "de24f01c",
   "metadata": {
    "execution": {
     "iopub.execute_input": "2025-02-26T09:32:06.817242Z",
     "iopub.status.busy": "2025-02-26T09:32:06.816707Z",
     "iopub.status.idle": "2025-02-26T09:32:06.829632Z",
     "shell.execute_reply": "2025-02-26T09:32:06.828460Z"
    },
    "papermill": {
     "duration": 0.020417,
     "end_time": "2025-02-26T09:32:06.831425",
     "exception": false,
     "start_time": "2025-02-26T09:32:06.811008",
     "status": "completed"
    },
    "tags": []
   },
   "outputs": [
    {
     "name": "stdout",
     "output_type": "stream",
     "text": [
      "80000\n",
      "90000\n",
      "110000\n",
      "120000\n",
      "130000\n",
      "170000\n",
      "190000\n",
      "200000\n",
      "210000\n"
     ]
    },
    {
     "data": {
      "application/javascript": [
       "parent.postMessage({\"jupyterEvent\": \"custom.exercise_interaction\", \"data\": {\"outcomeType\": 1, \"valueTowardsCompletion\": 0.2, \"interactionType\": 1, \"questionType\": 2, \"questionId\": \"1_GetExpectedCost\", \"learnToolsVersion\": \"0.3.4\", \"failureMessage\": \"\", \"exceptionClass\": \"\", \"trace\": \"\"}}, \"*\")"
      ],
      "text/plain": [
       "<IPython.core.display.Javascript object>"
      ]
     },
     "metadata": {},
     "output_type": "display_data"
    },
    {
     "data": {
      "text/markdown": [
       "<span style=\"color:#33cc33\">Correct</span>"
      ],
      "text/plain": [
       "Correct"
      ]
     },
     "metadata": {},
     "output_type": "display_data"
    }
   ],
   "source": [
    "# TODO: Complete the function\n",
    "def get_expected_cost(beds, baths):\n",
    "    value =(80000+30000*beds+10000*baths) \n",
    "    print(value)\n",
    "    return value\n",
    "\n",
    "# Check your answer \n",
    "q1.check()"
   ]
  },
  {
   "cell_type": "code",
   "execution_count": 3,
   "id": "b8936951",
   "metadata": {
    "execution": {
     "iopub.execute_input": "2025-02-26T09:32:06.843303Z",
     "iopub.status.busy": "2025-02-26T09:32:06.842826Z",
     "iopub.status.idle": "2025-02-26T09:32:06.847174Z",
     "shell.execute_reply": "2025-02-26T09:32:06.846069Z"
    },
    "papermill": {
     "duration": 0.012262,
     "end_time": "2025-02-26T09:32:06.848962",
     "exception": false,
     "start_time": "2025-02-26T09:32:06.836700",
     "status": "completed"
    },
    "tags": []
   },
   "outputs": [],
   "source": [
    "# Uncomment to see a hint\n",
    "#q1.hint()\n",
    "\n",
    "# Uncomment to view the solution\n",
    "#q1.solution()"
   ]
  },
  {
   "cell_type": "markdown",
   "id": "4c5d4c06",
   "metadata": {
    "papermill": {
     "duration": 0.004849,
     "end_time": "2025-02-26T09:32:06.859325",
     "exception": false,
     "start_time": "2025-02-26T09:32:06.854476",
     "status": "completed"
    },
    "tags": []
   },
   "source": [
    "# Question 2\n",
    "\n",
    "You are thinking about buying a home and want to get an idea of how much you will spend, based on the number of bedrooms and bathrooms.  You are trying to decide between four different options:\n",
    "- Option 1: house with two bedrooms and three bathrooms\n",
    "- Option 2: house with three bedrooms and two bathrooms\n",
    "- Option 3: house with three bedrooms and three bathrooms\n",
    "- Option 4: house with three bedrooms and four bathrooms\n",
    "\n",
    "Use the `get_expected_cost()` function you defined in question 1 to set `option_1`, `option_2`, `option_3`, and `option_4` to the expected cost of each option."
   ]
  },
  {
   "cell_type": "code",
   "execution_count": 4,
   "id": "98a7fd75",
   "metadata": {
    "execution": {
     "iopub.execute_input": "2025-02-26T09:32:06.871642Z",
     "iopub.status.busy": "2025-02-26T09:32:06.871185Z",
     "iopub.status.idle": "2025-02-26T09:32:06.883758Z",
     "shell.execute_reply": "2025-02-26T09:32:06.882653Z"
    },
    "papermill": {
     "duration": 0.020875,
     "end_time": "2025-02-26T09:32:06.885571",
     "exception": false,
     "start_time": "2025-02-26T09:32:06.864696",
     "status": "completed"
    },
    "tags": []
   },
   "outputs": [
    {
     "name": "stdout",
     "output_type": "stream",
     "text": [
      "170000\n",
      "190000\n",
      "200000\n",
      "210000\n",
      "170000\n",
      "190000\n",
      "200000\n",
      "210000\n"
     ]
    },
    {
     "data": {
      "application/javascript": [
       "parent.postMessage({\"jupyterEvent\": \"custom.exercise_interaction\", \"data\": {\"outcomeType\": 1, \"valueTowardsCompletion\": 0.2, \"interactionType\": 1, \"questionType\": 1, \"questionId\": \"2_RunGetExpectedCost\", \"learnToolsVersion\": \"0.3.4\", \"failureMessage\": \"\", \"exceptionClass\": \"\", \"trace\": \"\"}}, \"*\")"
      ],
      "text/plain": [
       "<IPython.core.display.Javascript object>"
      ]
     },
     "metadata": {},
     "output_type": "display_data"
    },
    {
     "data": {
      "text/markdown": [
       "<span style=\"color:#33cc33\">Correct</span>"
      ],
      "text/plain": [
       "Correct"
      ]
     },
     "metadata": {},
     "output_type": "display_data"
    }
   ],
   "source": [
    "# TODO: Use the get_expected_cost function to fill in each value\n",
    "option_one = get_expected_cost(2,3)\n",
    "option_two = get_expected_cost(3,2)\n",
    "option_three = get_expected_cost(3,3)\n",
    "option_four = get_expected_cost(3,4)\n",
    "\n",
    "print(option_one)\n",
    "print(option_two)\n",
    "print(option_three)\n",
    "print(option_four)\n",
    "\n",
    "# Check your answer\n",
    "q2.check()"
   ]
  },
  {
   "cell_type": "code",
   "execution_count": 5,
   "id": "2b17920f",
   "metadata": {
    "execution": {
     "iopub.execute_input": "2025-02-26T09:32:06.897811Z",
     "iopub.status.busy": "2025-02-26T09:32:06.897342Z",
     "iopub.status.idle": "2025-02-26T09:32:06.901587Z",
     "shell.execute_reply": "2025-02-26T09:32:06.900554Z"
    },
    "papermill": {
     "duration": 0.012321,
     "end_time": "2025-02-26T09:32:06.903443",
     "exception": false,
     "start_time": "2025-02-26T09:32:06.891122",
     "status": "completed"
    },
    "tags": []
   },
   "outputs": [],
   "source": [
    "# Uncomment to see a hint\n",
    "#q2.hint()\n",
    "\n",
    "# Uncomment to view the solution\n",
    "#q2.solution()"
   ]
  },
  {
   "cell_type": "markdown",
   "id": "974821cb",
   "metadata": {
    "papermill": {
     "duration": 0.0051,
     "end_time": "2025-02-26T09:32:06.914253",
     "exception": false,
     "start_time": "2025-02-26T09:32:06.909153",
     "status": "completed"
    },
    "tags": []
   },
   "source": [
    "# Question 3\n",
    "\n",
    "You're a home decorator, and you'd like to use Python to streamline some of your work.  Specifically, you're creating a tool that you intend to use to calculate the cost of painting a room.\n",
    "\n",
    "As a first step, define a function `get_cost()` that takes as input:\n",
    "- `sqft_walls` = total square feet of walls to be painted\n",
    "- `sqft_ceiling` = square feet of ceiling to be painted\n",
    "- `sqft_per_gallon` = number of square feet that you can cover with one gallon of paint\n",
    "- `cost_per_gallon` = cost (in dollars) of one gallon of paint\n",
    "\n",
    "It should return the cost (in dollars) of putting one coat of paint on all walls and the ceiling.  Assume you can buy the exact amount of paint that you need, so you can buy partial gallons (e.g., if you need 7.523 gallons, you can buy that exact amount, instead of needing to buy 8 gallons and waste some paint).  Do not round your answer."
   ]
  },
  {
   "cell_type": "code",
   "execution_count": 6,
   "id": "ac51e143",
   "metadata": {
    "execution": {
     "iopub.execute_input": "2025-02-26T09:32:06.926891Z",
     "iopub.status.busy": "2025-02-26T09:32:06.926417Z",
     "iopub.status.idle": "2025-02-26T09:32:06.937408Z",
     "shell.execute_reply": "2025-02-26T09:32:06.936381Z"
    },
    "papermill": {
     "duration": 0.019256,
     "end_time": "2025-02-26T09:32:06.939070",
     "exception": false,
     "start_time": "2025-02-26T09:32:06.919814",
     "status": "completed"
    },
    "tags": []
   },
   "outputs": [
    {
     "name": "stdout",
     "output_type": "stream",
     "text": [
      "21.599999999999998\n",
      "20.0\n",
      "48.0\n"
     ]
    },
    {
     "data": {
      "application/javascript": [
       "parent.postMessage({\"jupyterEvent\": \"custom.exercise_interaction\", \"data\": {\"outcomeType\": 1, \"valueTowardsCompletion\": 0.2, \"interactionType\": 1, \"questionType\": 2, \"questionId\": \"3_GetCostPaint\", \"learnToolsVersion\": \"0.3.4\", \"failureMessage\": \"\", \"exceptionClass\": \"\", \"trace\": \"\"}}, \"*\")"
      ],
      "text/plain": [
       "<IPython.core.display.Javascript object>"
      ]
     },
     "metadata": {},
     "output_type": "display_data"
    },
    {
     "data": {
      "text/markdown": [
       "<span style=\"color:#33cc33\">Correct</span>"
      ],
      "text/plain": [
       "Correct"
      ]
     },
     "metadata": {},
     "output_type": "display_data"
    }
   ],
   "source": [
    "# TODO: Finish defining the function\n",
    "def get_cost(sqft_walls, sqft_ceiling, sqft_per_gallon, cost_per_gallon):\n",
    "    cost =  total_sqft = sqft_walls + sqft_ceiling\n",
    "    gallons_needed = total_sqft / sqft_per_gallon\n",
    "    cost = cost_per_gallon * gallons_needed\n",
    "    print(cost)\n",
    "    return cost\n",
    "\n",
    "# Check your answer\n",
    "q3.check()"
   ]
  },
  {
   "cell_type": "code",
   "execution_count": 7,
   "id": "bf65c503",
   "metadata": {
    "execution": {
     "iopub.execute_input": "2025-02-26T09:32:06.952112Z",
     "iopub.status.busy": "2025-02-26T09:32:06.951609Z",
     "iopub.status.idle": "2025-02-26T09:32:06.956248Z",
     "shell.execute_reply": "2025-02-26T09:32:06.954989Z"
    },
    "papermill": {
     "duration": 0.013084,
     "end_time": "2025-02-26T09:32:06.958003",
     "exception": false,
     "start_time": "2025-02-26T09:32:06.944919",
     "status": "completed"
    },
    "tags": []
   },
   "outputs": [],
   "source": [
    "# Uncomment to see a hint\n",
    "#q3.hint()\n",
    "\n",
    "# Uncomment to view the solution\n",
    "#q3.solution()"
   ]
  },
  {
   "cell_type": "markdown",
   "id": "b2a6055e",
   "metadata": {
    "papermill": {
     "duration": 0.005296,
     "end_time": "2025-02-26T09:32:06.969072",
     "exception": false,
     "start_time": "2025-02-26T09:32:06.963776",
     "status": "completed"
    },
    "tags": []
   },
   "source": [
    "# Question 4\n",
    "\n",
    "Use the `get_cost()` function you defined in Question 3 to calculate the cost of applying one coat of paint to a room with:\n",
    "- 432 square feet of walls, and\n",
    "- 144 square feet of ceiling.\n",
    "\n",
    "Assume that one gallon of paint covers 400 square feet and costs $15.  As in Question 3, assume you can buy partial gallons of paint.  Do not round your answer."
   ]
  },
  {
   "cell_type": "code",
   "execution_count": 8,
   "id": "3c01b196",
   "metadata": {
    "execution": {
     "iopub.execute_input": "2025-02-26T09:32:06.982839Z",
     "iopub.status.busy": "2025-02-26T09:32:06.982349Z",
     "iopub.status.idle": "2025-02-26T09:32:06.993439Z",
     "shell.execute_reply": "2025-02-26T09:32:06.992478Z"
    },
    "papermill": {
     "duration": 0.020056,
     "end_time": "2025-02-26T09:32:06.995589",
     "exception": false,
     "start_time": "2025-02-26T09:32:06.975533",
     "status": "completed"
    },
    "tags": []
   },
   "outputs": [
    {
     "name": "stdout",
     "output_type": "stream",
     "text": [
      "21.599999999999998\n",
      "21.599999999999998\n"
     ]
    },
    {
     "data": {
      "application/javascript": [
       "parent.postMessage({\"jupyterEvent\": \"custom.exercise_interaction\", \"data\": {\"outcomeType\": 1, \"valueTowardsCompletion\": 0.2, \"interactionType\": 1, \"questionType\": 1, \"questionId\": \"4_GetCostPaintExample\", \"learnToolsVersion\": \"0.3.4\", \"failureMessage\": \"\", \"exceptionClass\": \"\", \"trace\": \"\"}}, \"*\")"
      ],
      "text/plain": [
       "<IPython.core.display.Javascript object>"
      ]
     },
     "metadata": {},
     "output_type": "display_data"
    },
    {
     "data": {
      "text/markdown": [
       "<span style=\"color:#33cc33\">Correct</span>"
      ],
      "text/plain": [
       "Correct"
      ]
     },
     "metadata": {},
     "output_type": "display_data"
    }
   ],
   "source": [
    "# TODO: Set the project_cost variable to the cost of the project\n",
    "project_cost = get_cost(432,144,400,15) \n",
    "print(project_cost)\n",
    "\n",
    "# Check your answer\n",
    "q4.check()"
   ]
  },
  {
   "cell_type": "code",
   "execution_count": 9,
   "id": "f30addf8",
   "metadata": {
    "execution": {
     "iopub.execute_input": "2025-02-26T09:32:07.019715Z",
     "iopub.status.busy": "2025-02-26T09:32:07.019246Z",
     "iopub.status.idle": "2025-02-26T09:32:07.023789Z",
     "shell.execute_reply": "2025-02-26T09:32:07.022647Z"
    },
    "papermill": {
     "duration": 0.018535,
     "end_time": "2025-02-26T09:32:07.025895",
     "exception": false,
     "start_time": "2025-02-26T09:32:07.007360",
     "status": "completed"
    },
    "tags": []
   },
   "outputs": [],
   "source": [
    "# Uncomment to see a hint\n",
    "#q4.hint()\n",
    "\n",
    "# Uncomment to view the solution\n",
    "#q4.solution()"
   ]
  },
  {
   "cell_type": "markdown",
   "id": "493a9511",
   "metadata": {
    "papermill": {
     "duration": 0.005825,
     "end_time": "2025-02-26T09:32:07.037997",
     "exception": false,
     "start_time": "2025-02-26T09:32:07.032172",
     "status": "completed"
    },
    "tags": []
   },
   "source": [
    "# 🌶️ Question 5\n",
    "\n",
    "Now say you can no longer buy fractions of a gallon.  (For instance, if you need 4.3 gallons to do a project, then you have to buy 5 gallons of paint.)\n",
    "\n",
    "With this new scenario, you will create a new function `get_actual_cost` that uses the same inputs and calculates the cost of your project.\n",
    "\n",
    "One function that you'll need to use to do this is `math.ceil()`.  We demonstrate usage of this function in the code cell below.  It takes as a number as input and rounds the number up to the nearest integer.  \n",
    "\n",
    "Run the next code cell to test this function for yourself.  Feel free to change the value of `test_value` and make sure `math.ceil()` returns the number you expect."
   ]
  },
  {
   "cell_type": "code",
   "execution_count": 10,
   "id": "987e3b37",
   "metadata": {
    "execution": {
     "iopub.execute_input": "2025-02-26T09:32:07.050976Z",
     "iopub.status.busy": "2025-02-26T09:32:07.050640Z",
     "iopub.status.idle": "2025-02-26T09:32:07.055682Z",
     "shell.execute_reply": "2025-02-26T09:32:07.054553Z"
    },
    "papermill": {
     "duration": 0.013714,
     "end_time": "2025-02-26T09:32:07.057611",
     "exception": false,
     "start_time": "2025-02-26T09:32:07.043897",
     "status": "completed"
    },
    "tags": []
   },
   "outputs": [
    {
     "name": "stdout",
     "output_type": "stream",
     "text": [
      "2\n"
     ]
    }
   ],
   "source": [
    "test_value = 1.50\n",
    "\n",
    "rounded_value = math.ceil(test_value)\n",
    "print(rounded_value)"
   ]
  },
  {
   "cell_type": "markdown",
   "id": "bbffafa4",
   "metadata": {
    "papermill": {
     "duration": 0.005728,
     "end_time": "2025-02-26T09:32:07.073716",
     "exception": false,
     "start_time": "2025-02-26T09:32:07.067988",
     "status": "completed"
    },
    "tags": []
   },
   "source": [
    "Use the next code cell to define the function `get_actual_cost()`.  You'll need to use the `math.ceil()` function to do this.\n",
    "\n",
    "When answering this question, note that it's completely valid to define a function that makes use of another function.  For instance, we can define a function `round_up_and_divide_by_three` that makes use of the `math.ceil` function:\n",
    "```\n",
    "def round_up_and_divide_by_three(num):\n",
    "    new_value = math.ceil(num)\n",
    "    final_value = new_value / 3\n",
    "    return final_value\n",
    "```"
   ]
  },
  {
   "cell_type": "code",
   "execution_count": 11,
   "id": "79383dc5",
   "metadata": {
    "execution": {
     "iopub.execute_input": "2025-02-26T09:32:07.087595Z",
     "iopub.status.busy": "2025-02-26T09:32:07.087247Z",
     "iopub.status.idle": "2025-02-26T09:32:07.097849Z",
     "shell.execute_reply": "2025-02-26T09:32:07.096639Z"
    },
    "papermill": {
     "duration": 0.019875,
     "end_time": "2025-02-26T09:32:07.099705",
     "exception": false,
     "start_time": "2025-02-26T09:32:07.079830",
     "status": "completed"
    },
    "tags": []
   },
   "outputs": [
    {
     "name": "stdout",
     "output_type": "stream",
     "text": [
      "30\n",
      "30\n",
      "80\n"
     ]
    },
    {
     "data": {
      "application/javascript": [
       "parent.postMessage({\"jupyterEvent\": \"custom.exercise_interaction\", \"data\": {\"outcomeType\": 1, \"valueTowardsCompletion\": 0.2, \"interactionType\": 1, \"questionType\": 2, \"questionId\": \"5_NoMoreFractions\", \"learnToolsVersion\": \"0.3.4\", \"failureMessage\": \"\", \"exceptionClass\": \"\", \"trace\": \"\"}}, \"*\")"
      ],
      "text/plain": [
       "<IPython.core.display.Javascript object>"
      ]
     },
     "metadata": {},
     "output_type": "display_data"
    },
    {
     "data": {
      "text/markdown": [
       "<span style=\"color:#33cc33\">Correct</span>"
      ],
      "text/plain": [
       "Correct"
      ]
     },
     "metadata": {},
     "output_type": "display_data"
    }
   ],
   "source": [
    "def get_actual_cost(sqft_walls, sqft_ceiling, sqft_per_gallon, cost_per_gallon):\n",
    "    total_sqft = sqft_walls + sqft_ceiling\n",
    "    gallons_needed = total_sqft / sqft_per_gallon\n",
    "    gallons_to_buy = math.ceil(gallons_needed)\n",
    "    cost = cost_per_gallon * gallons_to_buy\n",
    "    print(cost)\n",
    "    return cost    \n",
    "\n",
    "# Check your answer\n",
    "q5.check()"
   ]
  },
  {
   "cell_type": "code",
   "execution_count": 12,
   "id": "3bd31aed",
   "metadata": {
    "execution": {
     "iopub.execute_input": "2025-02-26T09:32:07.113586Z",
     "iopub.status.busy": "2025-02-26T09:32:07.113260Z",
     "iopub.status.idle": "2025-02-26T09:32:07.117131Z",
     "shell.execute_reply": "2025-02-26T09:32:07.116059Z"
    },
    "papermill": {
     "duration": 0.012615,
     "end_time": "2025-02-26T09:32:07.118845",
     "exception": false,
     "start_time": "2025-02-26T09:32:07.106230",
     "status": "completed"
    },
    "tags": []
   },
   "outputs": [],
   "source": [
    "# Uncomment to see a hint\n",
    "#q5.hint()\n",
    "\n",
    "# Uncomment to view the solution\n",
    "#q5.solution()"
   ]
  },
  {
   "cell_type": "markdown",
   "id": "72fce391",
   "metadata": {
    "papermill": {
     "duration": 0.005975,
     "end_time": "2025-02-26T09:32:07.131306",
     "exception": false,
     "start_time": "2025-02-26T09:32:07.125331",
     "status": "completed"
    },
    "tags": []
   },
   "source": [
    "Once your function is verified as correct, run the next code cell to calculate the updated cost of your project."
   ]
  },
  {
   "cell_type": "code",
   "execution_count": 13,
   "id": "a6263049",
   "metadata": {
    "execution": {
     "iopub.execute_input": "2025-02-26T09:32:07.145435Z",
     "iopub.status.busy": "2025-02-26T09:32:07.144949Z",
     "iopub.status.idle": "2025-02-26T09:32:07.153208Z",
     "shell.execute_reply": "2025-02-26T09:32:07.152048Z"
    },
    "papermill": {
     "duration": 0.017454,
     "end_time": "2025-02-26T09:32:07.155170",
     "exception": false,
     "start_time": "2025-02-26T09:32:07.137716",
     "status": "completed"
    },
    "tags": []
   },
   "outputs": [
    {
     "name": "stdout",
     "output_type": "stream",
     "text": [
      "30\n"
     ]
    },
    {
     "data": {
      "text/plain": [
       "30"
      ]
     },
     "execution_count": 13,
     "metadata": {},
     "output_type": "execute_result"
    }
   ],
   "source": [
    "get_actual_cost(432, 144, 400, 15) "
   ]
  },
  {
   "cell_type": "markdown",
   "id": "f0325b13",
   "metadata": {
    "papermill": {
     "duration": 0.006439,
     "end_time": "2025-02-26T09:32:07.168410",
     "exception": false,
     "start_time": "2025-02-26T09:32:07.161971",
     "status": "completed"
    },
    "tags": []
   },
   "source": [
    "Say you're working with a slightly larger room.  Run the next code cell to calculate the cost of the project."
   ]
  },
  {
   "cell_type": "code",
   "execution_count": 14,
   "id": "41a59e41",
   "metadata": {
    "execution": {
     "iopub.execute_input": "2025-02-26T09:32:07.183024Z",
     "iopub.status.busy": "2025-02-26T09:32:07.182662Z",
     "iopub.status.idle": "2025-02-26T09:32:07.189565Z",
     "shell.execute_reply": "2025-02-26T09:32:07.188478Z"
    },
    "papermill": {
     "duration": 0.016392,
     "end_time": "2025-02-26T09:32:07.191539",
     "exception": false,
     "start_time": "2025-02-26T09:32:07.175147",
     "status": "completed"
    },
    "tags": []
   },
   "outputs": [
    {
     "name": "stdout",
     "output_type": "stream",
     "text": [
      "45\n"
     ]
    },
    {
     "data": {
      "text/plain": [
       "45"
      ]
     },
     "execution_count": 14,
     "metadata": {},
     "output_type": "execute_result"
    }
   ],
   "source": [
    "get_actual_cost(594, 288, 400, 15) "
   ]
  },
  {
   "cell_type": "markdown",
   "id": "1c65ecde",
   "metadata": {
    "papermill": {
     "duration": 0.007166,
     "end_time": "2025-02-26T09:32:07.210772",
     "exception": false,
     "start_time": "2025-02-26T09:32:07.203606",
     "status": "completed"
    },
    "tags": []
   },
   "source": [
    "# Keep going\n",
    "\n",
    "Continue to learn about **[data types](https://www.kaggle.com/alexisbcook/data-types)**."
   ]
  },
  {
   "cell_type": "markdown",
   "id": "684db0b8",
   "metadata": {
    "papermill": {
     "duration": 0.006174,
     "end_time": "2025-02-26T09:32:07.223669",
     "exception": false,
     "start_time": "2025-02-26T09:32:07.217495",
     "status": "completed"
    },
    "tags": []
   },
   "source": [
    "---\n",
    "\n",
    "\n",
    "\n",
    "\n",
    "*Have questions or comments? Visit the [course discussion forum](https://www.kaggle.com/learn/intro-to-programming/discussion) to chat with other learners.*"
   ]
  }
 ],
 "metadata": {
  "kaggle": {
   "accelerator": "none",
   "dataSources": [],
   "isGpuEnabled": false,
   "isInternetEnabled": false,
   "language": "python",
   "sourceType": "notebook"
  },
  "kernelspec": {
   "display_name": "Python 3",
   "language": "python",
   "name": "python3"
  },
  "language_info": {
   "codemirror_mode": {
    "name": "ipython",
    "version": 3
   },
   "file_extension": ".py",
   "mimetype": "text/x-python",
   "name": "python",
   "nbconvert_exporter": "python",
   "pygments_lexer": "ipython3",
   "version": "3.10.12"
  },
  "papermill": {
   "default_parameters": {},
   "duration": 4.913765,
   "end_time": "2025-02-26T09:32:07.850366",
   "environment_variables": {},
   "exception": null,
   "input_path": "__notebook__.ipynb",
   "output_path": "__notebook__.ipynb",
   "parameters": {},
   "start_time": "2025-02-26T09:32:02.936601",
   "version": "2.6.0"
  }
 },
 "nbformat": 4,
 "nbformat_minor": 5
}
