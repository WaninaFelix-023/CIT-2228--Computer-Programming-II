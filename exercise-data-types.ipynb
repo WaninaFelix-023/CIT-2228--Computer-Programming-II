{
 "cells": [
  {
   "cell_type": "markdown",
   "id": "1043d0a5",
   "metadata": {
    "papermill": {
     "duration": 0.005281,
     "end_time": "2025-02-26T10:53:41.399926",
     "exception": false,
     "start_time": "2025-02-26T10:53:41.394645",
     "status": "completed"
    },
    "tags": []
   },
   "source": [
    "**This notebook is an exercise in the [Intro to Programming](https://www.kaggle.com/learn/intro-to-programming) course.  You can reference the tutorial at [this link](https://www.kaggle.com/alexisbcook/data-types).**\n",
    "\n",
    "---\n"
   ]
  },
  {
   "cell_type": "markdown",
   "id": "3ad2c1cc",
   "metadata": {
    "papermill": {
     "duration": 0.003636,
     "end_time": "2025-02-26T10:53:41.407675",
     "exception": false,
     "start_time": "2025-02-26T10:53:41.404039",
     "status": "completed"
    },
    "tags": []
   },
   "source": [
    "In the tutorial, you learned about four different data types: floats, integers, strings, and booleans.  In this exercise, you'll experiment with them.\n",
    "\n",
    "# Set up the notebook\n",
    "\n",
    "Run the next code cell without changes to set up the notebook."
   ]
  },
  {
   "cell_type": "code",
   "execution_count": 1,
   "id": "b5cfa7ce",
   "metadata": {
    "execution": {
     "iopub.execute_input": "2025-02-26T10:53:41.417675Z",
     "iopub.status.busy": "2025-02-26T10:53:41.417351Z",
     "iopub.status.idle": "2025-02-26T10:53:42.711150Z",
     "shell.execute_reply": "2025-02-26T10:53:42.710044Z"
    },
    "papermill": {
     "duration": 1.30037,
     "end_time": "2025-02-26T10:53:42.712748",
     "exception": false,
     "start_time": "2025-02-26T10:53:41.412378",
     "status": "completed"
    },
    "tags": []
   },
   "outputs": [
    {
     "name": "stdout",
     "output_type": "stream",
     "text": [
      "Setup complete.\n"
     ]
    }
   ],
   "source": [
    "# Set up the exercise\n",
    "from learntools.core import binder\n",
    "binder.bind(globals())\n",
    "from learntools.intro_to_programming.ex3 import *\n",
    "print('Setup complete.')"
   ]
  },
  {
   "cell_type": "markdown",
   "id": "cc1ea6e6",
   "metadata": {
    "papermill": {
     "duration": 0.003764,
     "end_time": "2025-02-26T10:53:42.720965",
     "exception": false,
     "start_time": "2025-02-26T10:53:42.717201",
     "status": "completed"
    },
    "tags": []
   },
   "source": [
    "# Question 1\n",
    "\n",
    "You have seen how to convert a float to an integer with the `int` function.  Try this out yourself by running the code cell below."
   ]
  },
  {
   "cell_type": "code",
   "execution_count": 2,
   "id": "c4c6d3ab",
   "metadata": {
    "execution": {
     "iopub.execute_input": "2025-02-26T10:53:42.730304Z",
     "iopub.status.busy": "2025-02-26T10:53:42.729792Z",
     "iopub.status.idle": "2025-02-26T10:53:42.736172Z",
     "shell.execute_reply": "2025-02-26T10:53:42.735088Z"
    },
    "papermill": {
     "duration": 0.013345,
     "end_time": "2025-02-26T10:53:42.738218",
     "exception": false,
     "start_time": "2025-02-26T10:53:42.724873",
     "status": "completed"
    },
    "tags": []
   },
   "outputs": [
    {
     "name": "stdout",
     "output_type": "stream",
     "text": [
      "1.0\n",
      "<class 'float'>\n",
      "1\n",
      "<class 'int'>\n"
     ]
    }
   ],
   "source": [
    "# Define a float\n",
    "y = 1.\n",
    "print(y)\n",
    "print(type(y))\n",
    "\n",
    "# Convert float to integer with the int function\n",
    "z = int(y)\n",
    "print(z)\n",
    "print(type(z))"
   ]
  },
  {
   "cell_type": "markdown",
   "id": "f3c289eb",
   "metadata": {
    "papermill": {
     "duration": 0.003695,
     "end_time": "2025-02-26T10:53:42.746370",
     "exception": false,
     "start_time": "2025-02-26T10:53:42.742675",
     "status": "completed"
    },
    "tags": []
   },
   "source": [
    "In this case, the float you are using has no numbers after the decimal.  \n",
    "- But what happens when you try to convert a float with a fractional part to an integer?  \n",
    "- How does the outcome of the `int` function change for positive and negative numbers?\n",
    "\n",
    "Use the next code cell to investigate and answer these questions.  Feel free to add or remove any lines of code -- it is your workspace!"
   ]
  },
  {
   "cell_type": "code",
   "execution_count": 3,
   "id": "9530baf4",
   "metadata": {
    "execution": {
     "iopub.execute_input": "2025-02-26T10:53:42.756377Z",
     "iopub.status.busy": "2025-02-26T10:53:42.756016Z",
     "iopub.status.idle": "2025-02-26T10:53:42.761837Z",
     "shell.execute_reply": "2025-02-26T10:53:42.760606Z"
    },
    "papermill": {
     "duration": 0.012832,
     "end_time": "2025-02-26T10:53:42.763748",
     "exception": false,
     "start_time": "2025-02-26T10:53:42.750916",
     "status": "completed"
    },
    "tags": []
   },
   "outputs": [
    {
     "name": "stdout",
     "output_type": "stream",
     "text": [
      "1\n",
      "1\n",
      "-3\n",
      "-2\n"
     ]
    }
   ],
   "source": [
    "# Uncomment and run this code to get started!\n",
    "print(int(1.2321))\n",
    "print(int(1.747))\n",
    "print(int(-3.94535))\n",
    "print(int(-2.19774))"
   ]
  },
  {
   "cell_type": "markdown",
   "id": "8146354d",
   "metadata": {
    "papermill": {
     "duration": 0.00385,
     "end_time": "2025-02-26T10:53:42.772182",
     "exception": false,
     "start_time": "2025-02-26T10:53:42.768332",
     "status": "completed"
    },
    "tags": []
   },
   "source": [
    "Once you have an answer, run the code cell below to see the solution.  Viewing the solution will give you credit for answering the problem."
   ]
  },
  {
   "cell_type": "code",
   "execution_count": 4,
   "id": "f1bf088b",
   "metadata": {
    "execution": {
     "iopub.execute_input": "2025-02-26T10:53:42.781281Z",
     "iopub.status.busy": "2025-02-26T10:53:42.780876Z",
     "iopub.status.idle": "2025-02-26T10:53:42.787669Z",
     "shell.execute_reply": "2025-02-26T10:53:42.786541Z"
    },
    "papermill": {
     "duration": 0.012769,
     "end_time": "2025-02-26T10:53:42.788834",
     "exception": false,
     "start_time": "2025-02-26T10:53:42.776065",
     "status": "completed"
    },
    "tags": []
   },
   "outputs": [
    {
     "data": {
      "application/javascript": [
       "parent.postMessage({\"jupyterEvent\": \"custom.exercise_interaction\", \"data\": {\"outcomeType\": 1, \"valueTowardsCompletion\": 0.2, \"interactionType\": 1, \"questionType\": 4, \"questionId\": \"1_FloatToInt\", \"learnToolsVersion\": \"0.3.4\", \"failureMessage\": \"\", \"exceptionClass\": \"\", \"trace\": \"\"}}, \"*\")"
      ],
      "text/plain": [
       "<IPython.core.display.Javascript object>"
      ]
     },
     "metadata": {},
     "output_type": "display_data"
    },
    {
     "data": {
      "text/markdown": [
       "<span style=\"color:#33cc33\">Correct:</span> \n",
       "\n",
       "Negative floats are always rounded UP to the closest integer (for instance, both -1.1 and -1.9 are rounded up to -1). Positive floats are always rounded DOWN to the closest integer (for instance, 2.1 and 2.9 are rounded down to 2)."
      ],
      "text/plain": [
       "Correct: \n",
       "\n",
       "Negative floats are always rounded UP to the closest integer (for instance, both -1.1 and -1.9 are rounded up to -1). Positive floats are always rounded DOWN to the closest integer (for instance, 2.1 and 2.9 are rounded down to 2)."
      ]
     },
     "metadata": {},
     "output_type": "display_data"
    }
   ],
   "source": [
    "# Check your answer (Run this code cell to receive credit!)\n",
    "q1.check()"
   ]
  },
  {
   "cell_type": "markdown",
   "id": "4b114ef4",
   "metadata": {
    "papermill": {
     "duration": 0.003688,
     "end_time": "2025-02-26T10:53:42.796867",
     "exception": false,
     "start_time": "2025-02-26T10:53:42.793179",
     "status": "completed"
    },
    "tags": []
   },
   "source": [
    "# Question 2\n",
    "\n",
    "In the tutorial, you learned about booleans (which can take a value of `True` or `False`), in addition to integers, floats, and strings.  For this question, your goal is to determine what happens when you multiply a boolean by any of these data types.  Specifically, \n",
    "- What happens when you multiply an integer or float by `True`?  What happens when you multiply them by `False`?  How does the answer change if the numbers are positive or negative?\n",
    "- What happens when you multiply a string by `True`?  By `False`?\n",
    "\n",
    "Use the next code cell for your investigation. "
   ]
  },
  {
   "cell_type": "code",
   "execution_count": 5,
   "id": "7da44bff",
   "metadata": {
    "execution": {
     "iopub.execute_input": "2025-02-26T10:53:42.806176Z",
     "iopub.status.busy": "2025-02-26T10:53:42.805800Z",
     "iopub.status.idle": "2025-02-26T10:53:42.811119Z",
     "shell.execute_reply": "2025-02-26T10:53:42.809963Z"
    },
    "papermill": {
     "duration": 0.01183,
     "end_time": "2025-02-26T10:53:42.812777",
     "exception": false,
     "start_time": "2025-02-26T10:53:42.800947",
     "status": "completed"
    },
    "tags": []
   },
   "outputs": [
    {
     "name": "stdout",
     "output_type": "stream",
     "text": [
      "3\n",
      "-3.1\n",
      "<class 'str'>\n",
      "0\n"
     ]
    }
   ],
   "source": [
    "# Uncomment and run this code to get started!\n",
    "print(3 * True)\n",
    "print(-3.1 * True)\n",
    "print(type(\"abc\" * False))\n",
    "print(len(\"abc\" * False))"
   ]
  },
  {
   "cell_type": "markdown",
   "id": "c71fddbb",
   "metadata": {
    "papermill": {
     "duration": 0.004039,
     "end_time": "2025-02-26T10:53:42.821794",
     "exception": false,
     "start_time": "2025-02-26T10:53:42.817755",
     "status": "completed"
    },
    "tags": []
   },
   "source": [
    "Once you have an answer, run the code cell below to see the solution.  Viewing the solution will give you credit for answering the problem."
   ]
  },
  {
   "cell_type": "code",
   "execution_count": 6,
   "id": "99991fd0",
   "metadata": {
    "execution": {
     "iopub.execute_input": "2025-02-26T10:53:42.831365Z",
     "iopub.status.busy": "2025-02-26T10:53:42.830961Z",
     "iopub.status.idle": "2025-02-26T10:53:42.838186Z",
     "shell.execute_reply": "2025-02-26T10:53:42.837235Z"
    },
    "papermill": {
     "duration": 0.013548,
     "end_time": "2025-02-26T10:53:42.839479",
     "exception": false,
     "start_time": "2025-02-26T10:53:42.825931",
     "status": "completed"
    },
    "tags": []
   },
   "outputs": [
    {
     "data": {
      "application/javascript": [
       "parent.postMessage({\"jupyterEvent\": \"custom.exercise_interaction\", \"data\": {\"outcomeType\": 1, \"valueTowardsCompletion\": 0.2, \"interactionType\": 1, \"questionType\": 4, \"questionId\": \"2_MultiplyBooleans\", \"learnToolsVersion\": \"0.3.4\", \"failureMessage\": \"\", \"exceptionClass\": \"\", \"trace\": \"\"}}, \"*\")"
      ],
      "text/plain": [
       "<IPython.core.display.Javascript object>"
      ]
     },
     "metadata": {},
     "output_type": "display_data"
    },
    {
     "data": {
      "text/markdown": [
       "<span style=\"color:#33cc33\">Correct:</span> \n",
       "\n",
       "When you multiple an integer or float by a boolean with value `True`, it just returns that same integer or float (and is equivalent to multiplying by 1).  If you multiply an integer or float by a boolean with value `False`, it always returns 0.  This is true for both positive and negative numbers.  If you multiply a string by a boolean with value `True`, it just returns that same string.  And if you multiply a string by a boolean with value `False`, it returns an empty string (or a string with length zero)."
      ],
      "text/plain": [
       "Correct: \n",
       "\n",
       "When you multiple an integer or float by a boolean with value `True`, it just returns that same integer or float (and is equivalent to multiplying by 1).  If you multiply an integer or float by a boolean with value `False`, it always returns 0.  This is true for both positive and negative numbers.  If you multiply a string by a boolean with value `True`, it just returns that same string.  And if you multiply a string by a boolean with value `False`, it returns an empty string (or a string with length zero)."
      ]
     },
     "metadata": {},
     "output_type": "display_data"
    }
   ],
   "source": [
    "# Check your answer (Run this code cell to receive credit!)\n",
    "q2.check()"
   ]
  },
  {
   "cell_type": "markdown",
   "id": "0a5518d9",
   "metadata": {
    "papermill": {
     "duration": 0.003978,
     "end_time": "2025-02-26T10:53:42.848090",
     "exception": false,
     "start_time": "2025-02-26T10:53:42.844112",
     "status": "completed"
    },
    "tags": []
   },
   "source": [
    "# Question 3\n",
    "\n",
    "In this question, you will build off your work from the previous exercise to write a function that estimates the value of a house.\n",
    "\n",
    "Use the next code cell to create a function `get_expected_cost` that takes as input three variables:\n",
    "- `beds` - number of bedrooms (data type float)\n",
    "- `baths` - number of bathrooms (data type float)\n",
    "- `has_basement` - whether or not the house has a basement (data type boolean)\n",
    "\n",
    "It should return the expected cost of a house with those characteristics. Assume that:\n",
    "- the expected cost for a house with 0 bedrooms and 0 bathrooms, and no basement is 80000, \n",
    "- each bedroom adds 30000 to the expected cost,\n",
    "- each bathroom adds 10000 to the expected cost, and\n",
    "- a basement adds 40000 to the expected cost.\n",
    "\n",
    "For instance,\n",
    "- a house with 1 bedroom, 1 bathroom, and no basement has an expected cost of 80000 + 30000 + 10000 = 120000.  This value will be calculated with `get_expected_cost(1, 1, False)`.\n",
    "- a house with 2 bedrooms, 1 bathroom, and a basement has an expected cost of 80000 + 2*30000 + 10000 + 40000 = 190000.  This value will be calculated with `get_expected_cost(2, 1, True)`.\n",
    "\n",
    "Remember you can always get a hint by uncommenting `q3.hint()` in the code cell following the next!"
   ]
  },
  {
   "cell_type": "code",
   "execution_count": 7,
   "id": "e5f132fe",
   "metadata": {
    "execution": {
     "iopub.execute_input": "2025-02-26T10:53:42.857296Z",
     "iopub.status.busy": "2025-02-26T10:53:42.856993Z",
     "iopub.status.idle": "2025-02-26T10:53:42.864934Z",
     "shell.execute_reply": "2025-02-26T10:53:42.864016Z"
    },
    "papermill": {
     "duration": 0.014608,
     "end_time": "2025-02-26T10:53:42.866817",
     "exception": false,
     "start_time": "2025-02-26T10:53:42.852209",
     "status": "completed"
    },
    "tags": []
   },
   "outputs": [
    {
     "name": "stdout",
     "output_type": "stream",
     "text": [
      "120000\n",
      "190000\n",
      "230000\n",
      "250000\n"
     ]
    },
    {
     "data": {
      "application/javascript": [
       "parent.postMessage({\"jupyterEvent\": \"custom.exercise_interaction\", \"data\": {\"outcomeType\": 1, \"valueTowardsCompletion\": 0.2, \"interactionType\": 1, \"questionType\": 2, \"questionId\": \"3_EstimateHouseValueBool\", \"learnToolsVersion\": \"0.3.4\", \"failureMessage\": \"\", \"exceptionClass\": \"\", \"trace\": \"\"}}, \"*\")"
      ],
      "text/plain": [
       "<IPython.core.display.Javascript object>"
      ]
     },
     "metadata": {},
     "output_type": "display_data"
    },
    {
     "data": {
      "text/markdown": [
       "<span style=\"color:#33cc33\">Correct</span>"
      ],
      "text/plain": [
       "Correct"
      ]
     },
     "metadata": {},
     "output_type": "display_data"
    }
   ],
   "source": [
    "# TODO: Complete the function\n",
    "def get_expected_cost(beds, baths, has_basement):\n",
    "    value = (80000+30000*beds+10000*baths+40000*has_basement)\n",
    "    print (value)\n",
    "    return value\n",
    "\n",
    "# Check your answer \n",
    "q3.check()"
   ]
  },
  {
   "cell_type": "code",
   "execution_count": 8,
   "id": "a515c4ed",
   "metadata": {
    "execution": {
     "iopub.execute_input": "2025-02-26T10:53:42.879176Z",
     "iopub.status.busy": "2025-02-26T10:53:42.878826Z",
     "iopub.status.idle": "2025-02-26T10:53:42.904802Z",
     "shell.execute_reply": "2025-02-26T10:53:42.903624Z"
    },
    "papermill": {
     "duration": 0.033983,
     "end_time": "2025-02-26T10:53:42.906081",
     "exception": false,
     "start_time": "2025-02-26T10:53:42.872098",
     "status": "completed"
    },
    "tags": []
   },
   "outputs": [
    {
     "data": {
      "application/javascript": [
       "parent.postMessage({\"jupyterEvent\": \"custom.exercise_interaction\", \"data\": {\"outcomeType\": 3, \"exceptionClass\": \"StdinNotImplementedError\", \"trace\": \"  File \\\"/usr/local/lib/python3.10/dist-packages/learntools/core/problem.py\\\", line 239, in check\\n    actual = fn(*args)\\n\\n  File \\\"<ipython-input-8-d75bfc9f3464>\\\", line 3, in get_expected_cost\\n    beds= float (input('enter number of beds'))\\n\\n  File \\\"/usr/local/lib/python3.10/dist-packages/ipykernel/kernelbase.py\\\", line 848, in raw_input\\n    raise StdinNotImplementedError(\\n\", \"failureMessage\": \"When calling your function with arguments `[1, 1, False]`, Python raised the following exception... **`StdinNotImplementedError: raw_input was called, but this frontend does not support input requests.`**\", \"interactionType\": 1, \"questionType\": 2, \"questionId\": \"3_EstimateHouseValueBool\", \"learnToolsVersion\": \"0.3.4\", \"valueTowardsCompletion\": 0.0}}, \"*\")"
      ],
      "text/plain": [
       "<IPython.core.display.Javascript object>"
      ]
     },
     "metadata": {},
     "output_type": "display_data"
    },
    {
     "data": {
      "text/markdown": [
       "<span style=\"color:#cc3333\">Incorrect:</span> When calling your function with arguments `[1, 1, False]`, Python raised the following exception... **`StdinNotImplementedError: raw_input was called, but this frontend does not support input requests.`**"
      ],
      "text/plain": [
       "Incorrect: When calling your function with arguments `[1, 1, False]`, Python raised the following exception... **`StdinNotImplementedError: raw_input was called, but this frontend does not support input requests.`**"
      ]
     },
     "metadata": {},
     "output_type": "display_data"
    }
   ],
   "source": [
    "# TODO: Complete the function\n",
    "def get_expected_cost(beds, baths, has_basement):\n",
    "    beds= float (input('enter number of beds'))\n",
    "    baths= float(input('enter number of baths'))\n",
    "    value = (80000+30000*beds+10000*baths+40000*has_basement)\n",
    "    print (value)\n",
    "    return value\n",
    "# example\n",
    "    get_expected_cost(3,3,false)\n",
    "\n",
    "# Check your answer \n",
    "q3.check()"
   ]
  },
  {
   "cell_type": "code",
   "execution_count": 9,
   "id": "b48396a8",
   "metadata": {
    "execution": {
     "iopub.execute_input": "2025-02-26T10:53:42.917372Z",
     "iopub.status.busy": "2025-02-26T10:53:42.916973Z",
     "iopub.status.idle": "2025-02-26T10:53:42.921079Z",
     "shell.execute_reply": "2025-02-26T10:53:42.919784Z"
    },
    "papermill": {
     "duration": 0.011383,
     "end_time": "2025-02-26T10:53:42.922721",
     "exception": false,
     "start_time": "2025-02-26T10:53:42.911338",
     "status": "completed"
    },
    "tags": []
   },
   "outputs": [],
   "source": [
    "# Uncomment to see a hint\n",
    "#q3.hint()\n",
    "\n",
    "# Uncomment to view the solution\n",
    "#q3.solution()"
   ]
  },
  {
   "cell_type": "markdown",
   "id": "c981d1a7",
   "metadata": {
    "papermill": {
     "duration": 0.004616,
     "end_time": "2025-02-26T10:53:42.932247",
     "exception": false,
     "start_time": "2025-02-26T10:53:42.927631",
     "status": "completed"
    },
    "tags": []
   },
   "source": [
    "# Question 4\n",
    "\n",
    "We'll continue our study of boolean arithmetic.  For this question, your task is to provide a description of what happpens when you add booleans. \n",
    "\n",
    "Use the next code cell for your investigation.  Feel free to add or remove any lines of code - use it as your workspace!"
   ]
  },
  {
   "cell_type": "code",
   "execution_count": 10,
   "id": "db979200",
   "metadata": {
    "execution": {
     "iopub.execute_input": "2025-02-26T10:53:42.942994Z",
     "iopub.status.busy": "2025-02-26T10:53:42.942671Z",
     "iopub.status.idle": "2025-02-26T10:53:42.948433Z",
     "shell.execute_reply": "2025-02-26T10:53:42.947153Z"
    },
    "papermill": {
     "duration": 0.01261,
     "end_time": "2025-02-26T10:53:42.949842",
     "exception": false,
     "start_time": "2025-02-26T10:53:42.937232",
     "status": "completed"
    },
    "tags": []
   },
   "outputs": [
    {
     "name": "stdout",
     "output_type": "stream",
     "text": [
      "0\n",
      "1\n",
      "1\n",
      "2\n",
      "3\n",
      "2\n"
     ]
    }
   ],
   "source": [
    "print(False + False)\n",
    "print(True + False)\n",
    "print(False + True)\n",
    "print(True + True)\n",
    "print(False + True + True + True)\n",
    "print((False*True)+True + True)"
   ]
  },
  {
   "cell_type": "markdown",
   "id": "07c094c5",
   "metadata": {
    "papermill": {
     "duration": 0.004526,
     "end_time": "2025-02-26T10:53:42.959578",
     "exception": false,
     "start_time": "2025-02-26T10:53:42.955052",
     "status": "completed"
    },
    "tags": []
   },
   "source": [
    "Once you have an answer, run the code cell below to see the solution.  Viewing the solution will give you credit for answering the problem."
   ]
  },
  {
   "cell_type": "code",
   "execution_count": 11,
   "id": "343271f8",
   "metadata": {
    "execution": {
     "iopub.execute_input": "2025-02-26T10:53:42.970044Z",
     "iopub.status.busy": "2025-02-26T10:53:42.969710Z",
     "iopub.status.idle": "2025-02-26T10:53:42.976179Z",
     "shell.execute_reply": "2025-02-26T10:53:42.974985Z"
    },
    "papermill": {
     "duration": 0.013533,
     "end_time": "2025-02-26T10:53:42.977683",
     "exception": false,
     "start_time": "2025-02-26T10:53:42.964150",
     "status": "completed"
    },
    "tags": []
   },
   "outputs": [
    {
     "data": {
      "application/javascript": [
       "parent.postMessage({\"jupyterEvent\": \"custom.exercise_interaction\", \"data\": {\"outcomeType\": 1, \"valueTowardsCompletion\": 0.2, \"interactionType\": 1, \"questionType\": 4, \"questionId\": \"4_AddingBooleans\", \"learnToolsVersion\": \"0.3.4\", \"failureMessage\": \"\", \"exceptionClass\": \"\", \"trace\": \"\"}}, \"*\")"
      ],
      "text/plain": [
       "<IPython.core.display.Javascript object>"
      ]
     },
     "metadata": {},
     "output_type": "display_data"
    },
    {
     "data": {
      "text/markdown": [
       "<span style=\"color:#33cc33\">Correct:</span> \n",
       "\n",
       "When you add booleans, adding `False` is equivalent to adding 0, and adding `True` is equivalent to adding 1."
      ],
      "text/plain": [
       "Correct: \n",
       "\n",
       "When you add booleans, adding `False` is equivalent to adding 0, and adding `True` is equivalent to adding 1."
      ]
     },
     "metadata": {},
     "output_type": "display_data"
    }
   ],
   "source": [
    "# Check your answer (Run this code cell to receive credit!)\n",
    "q4.check()"
   ]
  },
  {
   "cell_type": "markdown",
   "id": "8e6354e2",
   "metadata": {
    "papermill": {
     "duration": 0.004959,
     "end_time": "2025-02-26T10:53:42.988320",
     "exception": false,
     "start_time": "2025-02-26T10:53:42.983361",
     "status": "completed"
    },
    "tags": []
   },
   "source": [
    "# 🌶️ Question 5\n",
    "\n",
    "You own an online shop where you sell rings with custom engravings.  You offer both gold plated and solid gold rings.\n",
    "- Gold plated rings have a base cost of \\\\$50, and you charge \\\\$7 per engraved unit.  \n",
    "- Solid gold rings have a base cost of \\\\$100, and you charge \\\\$10 per engraved unit.\n",
    "- Spaces and punctuation are counted as engraved units.\n",
    "\n",
    "Write a function `cost_of_project()` that takes two arguments:\n",
    "- `engraving` - a Python string with the text of the engraving\n",
    "- `solid_gold` - a Boolean that indicates whether the ring is solid gold\n",
    "\n",
    "It should return the cost of the project.  This question should be fairly challenging, and you may need a hint."
   ]
  },
  {
   "cell_type": "code",
   "execution_count": 12,
   "id": "fdeb68c0",
   "metadata": {
    "execution": {
     "iopub.execute_input": "2025-02-26T10:53:42.999717Z",
     "iopub.status.busy": "2025-02-26T10:53:42.999399Z",
     "iopub.status.idle": "2025-02-26T10:53:43.008042Z",
     "shell.execute_reply": "2025-02-26T10:53:43.007229Z"
    },
    "papermill": {
     "duration": 0.016348,
     "end_time": "2025-02-26T10:53:43.009605",
     "exception": false,
     "start_time": "2025-02-26T10:53:42.993257",
     "status": "completed"
    },
    "tags": []
   },
   "outputs": [
    {
     "name": "stdout",
     "output_type": "stream",
     "text": [
      "240\n",
      "120\n",
      "160\n",
      "71\n"
     ]
    },
    {
     "data": {
      "application/javascript": [
       "parent.postMessage({\"jupyterEvent\": \"custom.exercise_interaction\", \"data\": {\"outcomeType\": 1, \"valueTowardsCompletion\": 0.2, \"interactionType\": 1, \"questionType\": 2, \"questionId\": \"5_CustomEngravings\", \"learnToolsVersion\": \"0.3.4\", \"failureMessage\": \"\", \"exceptionClass\": \"\", \"trace\": \"\"}}, \"*\")"
      ],
      "text/plain": [
       "<IPython.core.display.Javascript object>"
      ]
     },
     "metadata": {},
     "output_type": "display_data"
    },
    {
     "data": {
      "text/markdown": [
       "<span style=\"color:#33cc33\">Correct</span>"
      ],
      "text/plain": [
       "Correct"
      ]
     },
     "metadata": {},
     "output_type": "display_data"
    }
   ],
   "source": [
    "def cost_of_project(engraving, solid_gold):\n",
    "    cost = solid_gold * (100 + 10 * len(engraving)) + (not solid_gold) * (50 + 7 * len(engraving))\n",
    "    print(cost)\n",
    "    return cost\n",
    "\n",
    "# Check your answer\n",
    "q5.check()"
   ]
  },
  {
   "cell_type": "code",
   "execution_count": 13,
   "id": "6dcf35f4",
   "metadata": {
    "execution": {
     "iopub.execute_input": "2025-02-26T10:53:43.021372Z",
     "iopub.status.busy": "2025-02-26T10:53:43.020951Z",
     "iopub.status.idle": "2025-02-26T10:53:43.024845Z",
     "shell.execute_reply": "2025-02-26T10:53:43.023583Z"
    },
    "papermill": {
     "duration": 0.011957,
     "end_time": "2025-02-26T10:53:43.026967",
     "exception": false,
     "start_time": "2025-02-26T10:53:43.015010",
     "status": "completed"
    },
    "tags": []
   },
   "outputs": [],
   "source": [
    "# Uncomment to see a hint\n",
    "#q5.hint()\n",
    "\n",
    "# Uncomment to view the solution\n",
    "#q5.solution()"
   ]
  },
  {
   "cell_type": "markdown",
   "id": "bb564f48",
   "metadata": {
    "papermill": {
     "duration": 0.004866,
     "end_time": "2025-02-26T10:53:43.037776",
     "exception": false,
     "start_time": "2025-02-26T10:53:43.032910",
     "status": "completed"
    },
    "tags": []
   },
   "source": [
    "Run the next code cell to calculate the cost of engraving `Charlie+Denver` on a solid gold ring."
   ]
  },
  {
   "cell_type": "code",
   "execution_count": 14,
   "id": "08347c03",
   "metadata": {
    "execution": {
     "iopub.execute_input": "2025-02-26T10:53:43.049539Z",
     "iopub.status.busy": "2025-02-26T10:53:43.049184Z",
     "iopub.status.idle": "2025-02-26T10:53:43.053924Z",
     "shell.execute_reply": "2025-02-26T10:53:43.052757Z"
    },
    "papermill": {
     "duration": 0.013038,
     "end_time": "2025-02-26T10:53:43.055826",
     "exception": false,
     "start_time": "2025-02-26T10:53:43.042788",
     "status": "completed"
    },
    "tags": []
   },
   "outputs": [
    {
     "name": "stdout",
     "output_type": "stream",
     "text": [
      "240\n",
      "240\n"
     ]
    }
   ],
   "source": [
    "project_one = cost_of_project(\"Charlie+Denver\", True)\n",
    "print(project_one)"
   ]
  },
  {
   "cell_type": "markdown",
   "id": "279fad81",
   "metadata": {
    "papermill": {
     "duration": 0.004885,
     "end_time": "2025-02-26T10:53:43.066763",
     "exception": false,
     "start_time": "2025-02-26T10:53:43.061878",
     "status": "completed"
    },
    "tags": []
   },
   "source": [
    "Use the next code cell to calculate the cost of engraving `08/10/2000` on a gold plated ring."
   ]
  },
  {
   "cell_type": "code",
   "execution_count": 15,
   "id": "ba90042f",
   "metadata": {
    "execution": {
     "iopub.execute_input": "2025-02-26T10:53:43.078232Z",
     "iopub.status.busy": "2025-02-26T10:53:43.077810Z",
     "iopub.status.idle": "2025-02-26T10:53:43.082745Z",
     "shell.execute_reply": "2025-02-26T10:53:43.081806Z"
    },
    "papermill": {
     "duration": 0.012186,
     "end_time": "2025-02-26T10:53:43.084106",
     "exception": false,
     "start_time": "2025-02-26T10:53:43.071920",
     "status": "completed"
    },
    "tags": []
   },
   "outputs": [
    {
     "name": "stdout",
     "output_type": "stream",
     "text": [
      "120\n",
      "120\n"
     ]
    }
   ],
   "source": [
    "project_two = cost_of_project(\"08/10/2000\", False)\n",
    "print(project_two)"
   ]
  },
  {
   "cell_type": "markdown",
   "id": "00b4ba64",
   "metadata": {
    "papermill": {
     "duration": 0.005041,
     "end_time": "2025-02-26T10:53:43.094857",
     "exception": false,
     "start_time": "2025-02-26T10:53:43.089816",
     "status": "completed"
    },
    "tags": []
   },
   "source": [
    "# Keep going\n",
    "\n",
    "Continue to the next lesson to **[learn about conditions and conditional statements](https://www.kaggle.com/alexisbcook/conditions-and-conditional-statements)**."
   ]
  },
  {
   "cell_type": "markdown",
   "id": "10bf9497",
   "metadata": {
    "papermill": {
     "duration": 0.004819,
     "end_time": "2025-02-26T10:53:43.104731",
     "exception": false,
     "start_time": "2025-02-26T10:53:43.099912",
     "status": "completed"
    },
    "tags": []
   },
   "source": [
    "---\n",
    "\n",
    "\n",
    "\n",
    "\n",
    "*Have questions or comments? Visit the [course discussion forum](https://www.kaggle.com/learn/intro-to-programming/discussion) to chat with other learners.*"
   ]
  }
 ],
 "metadata": {
  "kaggle": {
   "accelerator": "none",
   "dataSources": [],
   "isGpuEnabled": false,
   "isInternetEnabled": false,
   "language": "python",
   "sourceType": "notebook"
  },
  "kernelspec": {
   "display_name": "Python 3",
   "language": "python",
   "name": "python3"
  },
  "language_info": {
   "codemirror_mode": {
    "name": "ipython",
    "version": 3
   },
   "file_extension": ".py",
   "mimetype": "text/x-python",
   "name": "python",
   "nbconvert_exporter": "python",
   "pygments_lexer": "ipython3",
   "version": "3.10.12"
  },
  "papermill": {
   "default_parameters": {},
   "duration": 4.69576,
   "end_time": "2025-02-26T10:53:43.628636",
   "environment_variables": {},
   "exception": null,
   "input_path": "__notebook__.ipynb",
   "output_path": "__notebook__.ipynb",
   "parameters": {},
   "start_time": "2025-02-26T10:53:38.932876",
   "version": "2.3.3"
  }
 },
 "nbformat": 4,
 "nbformat_minor": 5
}
