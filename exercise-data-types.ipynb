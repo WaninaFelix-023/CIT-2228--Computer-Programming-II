{
 "cells": [
  {
   "cell_type": "markdown",
   "id": "2040a43e",
   "metadata": {
    "papermill": {
     "duration": 0.006107,
     "end_time": "2025-02-26T10:52:41.184430",
     "exception": false,
     "start_time": "2025-02-26T10:52:41.178323",
     "status": "completed"
    },
    "tags": []
   },
   "source": [
    "**This notebook is an exercise in the [Intro to Programming](https://www.kaggle.com/learn/intro-to-programming) course.  You can reference the tutorial at [this link](https://www.kaggle.com/alexisbcook/data-types).**\n",
    "\n",
    "---\n"
   ]
  },
  {
   "cell_type": "markdown",
   "id": "03cd4f5e",
   "metadata": {
    "papermill": {
     "duration": 0.005149,
     "end_time": "2025-02-26T10:52:41.195310",
     "exception": false,
     "start_time": "2025-02-26T10:52:41.190161",
     "status": "completed"
    },
    "tags": []
   },
   "source": [
    "In the tutorial, you learned about four different data types: floats, integers, strings, and booleans.  In this exercise, you'll experiment with them.\n",
    "\n",
    "# Set up the notebook\n",
    "\n",
    "Run the next code cell without changes to set up the notebook."
   ]
  },
  {
   "cell_type": "code",
   "execution_count": 1,
   "id": "536006e0",
   "metadata": {
    "execution": {
     "iopub.execute_input": "2025-02-26T10:52:41.207227Z",
     "iopub.status.busy": "2025-02-26T10:52:41.206816Z",
     "iopub.status.idle": "2025-02-26T10:52:42.146151Z",
     "shell.execute_reply": "2025-02-26T10:52:42.144915Z"
    },
    "papermill": {
     "duration": 0.947545,
     "end_time": "2025-02-26T10:52:42.148034",
     "exception": false,
     "start_time": "2025-02-26T10:52:41.200489",
     "status": "completed"
    },
    "tags": []
   },
   "outputs": [
    {
     "name": "stdout",
     "output_type": "stream",
     "text": [
      "Setup complete.\n"
     ]
    }
   ],
   "source": [
    "# Set up the exercise\n",
    "from learntools.core import binder\n",
    "binder.bind(globals())\n",
    "from learntools.intro_to_programming.ex3 import *\n",
    "print('Setup complete.')"
   ]
  },
  {
   "cell_type": "markdown",
   "id": "4d68754d",
   "metadata": {
    "papermill": {
     "duration": 0.005068,
     "end_time": "2025-02-26T10:52:42.158916",
     "exception": false,
     "start_time": "2025-02-26T10:52:42.153848",
     "status": "completed"
    },
    "tags": []
   },
   "source": [
    "# Question 1\n",
    "\n",
    "You have seen how to convert a float to an integer with the `int` function.  Try this out yourself by running the code cell below."
   ]
  },
  {
   "cell_type": "code",
   "execution_count": 2,
   "id": "eabe4b0f",
   "metadata": {
    "execution": {
     "iopub.execute_input": "2025-02-26T10:52:42.170766Z",
     "iopub.status.busy": "2025-02-26T10:52:42.170248Z",
     "iopub.status.idle": "2025-02-26T10:52:42.175815Z",
     "shell.execute_reply": "2025-02-26T10:52:42.174763Z"
    },
    "papermill": {
     "duration": 0.013217,
     "end_time": "2025-02-26T10:52:42.177368",
     "exception": false,
     "start_time": "2025-02-26T10:52:42.164151",
     "status": "completed"
    },
    "tags": []
   },
   "outputs": [
    {
     "name": "stdout",
     "output_type": "stream",
     "text": [
      "1.0\n",
      "<class 'float'>\n",
      "1\n",
      "<class 'int'>\n"
     ]
    }
   ],
   "source": [
    "# Define a float\n",
    "y = 1.\n",
    "print(y)\n",
    "print(type(y))\n",
    "\n",
    "# Convert float to integer with the int function\n",
    "z = int(y)\n",
    "print(z)\n",
    "print(type(z))"
   ]
  },
  {
   "cell_type": "markdown",
   "id": "867e2428",
   "metadata": {
    "papermill": {
     "duration": 0.005026,
     "end_time": "2025-02-26T10:52:42.187871",
     "exception": false,
     "start_time": "2025-02-26T10:52:42.182845",
     "status": "completed"
    },
    "tags": []
   },
   "source": [
    "In this case, the float you are using has no numbers after the decimal.  \n",
    "- But what happens when you try to convert a float with a fractional part to an integer?  \n",
    "- How does the outcome of the `int` function change for positive and negative numbers?\n",
    "\n",
    "Use the next code cell to investigate and answer these questions.  Feel free to add or remove any lines of code -- it is your workspace!"
   ]
  },
  {
   "cell_type": "code",
   "execution_count": 3,
   "id": "5f1770cd",
   "metadata": {
    "execution": {
     "iopub.execute_input": "2025-02-26T10:52:42.199970Z",
     "iopub.status.busy": "2025-02-26T10:52:42.199394Z",
     "iopub.status.idle": "2025-02-26T10:52:42.205300Z",
     "shell.execute_reply": "2025-02-26T10:52:42.204226Z"
    },
    "papermill": {
     "duration": 0.013453,
     "end_time": "2025-02-26T10:52:42.206753",
     "exception": false,
     "start_time": "2025-02-26T10:52:42.193300",
     "status": "completed"
    },
    "tags": []
   },
   "outputs": [
    {
     "name": "stdout",
     "output_type": "stream",
     "text": [
      "1\n",
      "1\n",
      "-3\n",
      "-2\n"
     ]
    }
   ],
   "source": [
    "# Uncomment and run this code to get started!\n",
    "print(int(1.2321))\n",
    "print(int(1.747))\n",
    "print(int(-3.94535))\n",
    "print(int(-2.19774))"
   ]
  },
  {
   "cell_type": "markdown",
   "id": "2b0eca2b",
   "metadata": {
    "papermill": {
     "duration": 0.005214,
     "end_time": "2025-02-26T10:52:42.217425",
     "exception": false,
     "start_time": "2025-02-26T10:52:42.212211",
     "status": "completed"
    },
    "tags": []
   },
   "source": [
    "Once you have an answer, run the code cell below to see the solution.  Viewing the solution will give you credit for answering the problem."
   ]
  },
  {
   "cell_type": "code",
   "execution_count": 4,
   "id": "c9a47e64",
   "metadata": {
    "execution": {
     "iopub.execute_input": "2025-02-26T10:52:42.229419Z",
     "iopub.status.busy": "2025-02-26T10:52:42.229073Z",
     "iopub.status.idle": "2025-02-26T10:52:42.237319Z",
     "shell.execute_reply": "2025-02-26T10:52:42.236529Z"
    },
    "papermill": {
     "duration": 0.016245,
     "end_time": "2025-02-26T10:52:42.239005",
     "exception": false,
     "start_time": "2025-02-26T10:52:42.222760",
     "status": "completed"
    },
    "tags": []
   },
   "outputs": [
    {
     "data": {
      "application/javascript": [
       "parent.postMessage({\"jupyterEvent\": \"custom.exercise_interaction\", \"data\": {\"outcomeType\": 1, \"valueTowardsCompletion\": 0.2, \"interactionType\": 1, \"questionType\": 4, \"questionId\": \"1_FloatToInt\", \"learnToolsVersion\": \"0.3.4\", \"failureMessage\": \"\", \"exceptionClass\": \"\", \"trace\": \"\"}}, \"*\")"
      ],
      "text/plain": [
       "<IPython.core.display.Javascript object>"
      ]
     },
     "metadata": {},
     "output_type": "display_data"
    },
    {
     "data": {
      "text/markdown": [
       "<span style=\"color:#33cc33\">Correct:</span> \n",
       "\n",
       "Negative floats are always rounded UP to the closest integer (for instance, both -1.1 and -1.9 are rounded up to -1). Positive floats are always rounded DOWN to the closest integer (for instance, 2.1 and 2.9 are rounded down to 2)."
      ],
      "text/plain": [
       "Correct: \n",
       "\n",
       "Negative floats are always rounded UP to the closest integer (for instance, both -1.1 and -1.9 are rounded up to -1). Positive floats are always rounded DOWN to the closest integer (for instance, 2.1 and 2.9 are rounded down to 2)."
      ]
     },
     "metadata": {},
     "output_type": "display_data"
    }
   ],
   "source": [
    "# Check your answer (Run this code cell to receive credit!)\n",
    "q1.check()"
   ]
  },
  {
   "cell_type": "markdown",
   "id": "e1fc3dbc",
   "metadata": {
    "papermill": {
     "duration": 0.005462,
     "end_time": "2025-02-26T10:52:42.250388",
     "exception": false,
     "start_time": "2025-02-26T10:52:42.244926",
     "status": "completed"
    },
    "tags": []
   },
   "source": [
    "# Question 2\n",
    "\n",
    "In the tutorial, you learned about booleans (which can take a value of `True` or `False`), in addition to integers, floats, and strings.  For this question, your goal is to determine what happens when you multiply a boolean by any of these data types.  Specifically, \n",
    "- What happens when you multiply an integer or float by `True`?  What happens when you multiply them by `False`?  How does the answer change if the numbers are positive or negative?\n",
    "- What happens when you multiply a string by `True`?  By `False`?\n",
    "\n",
    "Use the next code cell for your investigation. "
   ]
  },
  {
   "cell_type": "code",
   "execution_count": 5,
   "id": "22cf8e1a",
   "metadata": {
    "execution": {
     "iopub.execute_input": "2025-02-26T10:52:42.262893Z",
     "iopub.status.busy": "2025-02-26T10:52:42.262506Z",
     "iopub.status.idle": "2025-02-26T10:52:42.268645Z",
     "shell.execute_reply": "2025-02-26T10:52:42.267731Z"
    },
    "papermill": {
     "duration": 0.014265,
     "end_time": "2025-02-26T10:52:42.270252",
     "exception": false,
     "start_time": "2025-02-26T10:52:42.255987",
     "status": "completed"
    },
    "tags": []
   },
   "outputs": [
    {
     "name": "stdout",
     "output_type": "stream",
     "text": [
      "3\n",
      "-3.1\n",
      "<class 'str'>\n",
      "0\n"
     ]
    }
   ],
   "source": [
    "# Uncomment and run this code to get started!\n",
    "print(3 * True)\n",
    "print(-3.1 * True)\n",
    "print(type(\"abc\" * False))\n",
    "print(len(\"abc\" * False))"
   ]
  },
  {
   "cell_type": "markdown",
   "id": "d4e73689",
   "metadata": {
    "papermill": {
     "duration": 0.005499,
     "end_time": "2025-02-26T10:52:42.282122",
     "exception": false,
     "start_time": "2025-02-26T10:52:42.276623",
     "status": "completed"
    },
    "tags": []
   },
   "source": [
    "Once you have an answer, run the code cell below to see the solution.  Viewing the solution will give you credit for answering the problem."
   ]
  },
  {
   "cell_type": "code",
   "execution_count": 6,
   "id": "801cdd68",
   "metadata": {
    "execution": {
     "iopub.execute_input": "2025-02-26T10:52:42.295442Z",
     "iopub.status.busy": "2025-02-26T10:52:42.295067Z",
     "iopub.status.idle": "2025-02-26T10:52:42.302620Z",
     "shell.execute_reply": "2025-02-26T10:52:42.301604Z"
    },
    "papermill": {
     "duration": 0.015916,
     "end_time": "2025-02-26T10:52:42.304226",
     "exception": false,
     "start_time": "2025-02-26T10:52:42.288310",
     "status": "completed"
    },
    "tags": []
   },
   "outputs": [
    {
     "data": {
      "application/javascript": [
       "parent.postMessage({\"jupyterEvent\": \"custom.exercise_interaction\", \"data\": {\"outcomeType\": 1, \"valueTowardsCompletion\": 0.2, \"interactionType\": 1, \"questionType\": 4, \"questionId\": \"2_MultiplyBooleans\", \"learnToolsVersion\": \"0.3.4\", \"failureMessage\": \"\", \"exceptionClass\": \"\", \"trace\": \"\"}}, \"*\")"
      ],
      "text/plain": [
       "<IPython.core.display.Javascript object>"
      ]
     },
     "metadata": {},
     "output_type": "display_data"
    },
    {
     "data": {
      "text/markdown": [
       "<span style=\"color:#33cc33\">Correct:</span> \n",
       "\n",
       "When you multiple an integer or float by a boolean with value `True`, it just returns that same integer or float (and is equivalent to multiplying by 1).  If you multiply an integer or float by a boolean with value `False`, it always returns 0.  This is true for both positive and negative numbers.  If you multiply a string by a boolean with value `True`, it just returns that same string.  And if you multiply a string by a boolean with value `False`, it returns an empty string (or a string with length zero)."
      ],
      "text/plain": [
       "Correct: \n",
       "\n",
       "When you multiple an integer or float by a boolean with value `True`, it just returns that same integer or float (and is equivalent to multiplying by 1).  If you multiply an integer or float by a boolean with value `False`, it always returns 0.  This is true for both positive and negative numbers.  If you multiply a string by a boolean with value `True`, it just returns that same string.  And if you multiply a string by a boolean with value `False`, it returns an empty string (or a string with length zero)."
      ]
     },
     "metadata": {},
     "output_type": "display_data"
    }
   ],
   "source": [
    "# Check your answer (Run this code cell to receive credit!)\n",
    "q2.check()"
   ]
  },
  {
   "cell_type": "markdown",
   "id": "7877e4ff",
   "metadata": {
    "papermill": {
     "duration": 0.005717,
     "end_time": "2025-02-26T10:52:42.316397",
     "exception": false,
     "start_time": "2025-02-26T10:52:42.310680",
     "status": "completed"
    },
    "tags": []
   },
   "source": [
    "# Question 3\n",
    "\n",
    "In this question, you will build off your work from the previous exercise to write a function that estimates the value of a house.\n",
    "\n",
    "Use the next code cell to create a function `get_expected_cost` that takes as input three variables:\n",
    "- `beds` - number of bedrooms (data type float)\n",
    "- `baths` - number of bathrooms (data type float)\n",
    "- `has_basement` - whether or not the house has a basement (data type boolean)\n",
    "\n",
    "It should return the expected cost of a house with those characteristics. Assume that:\n",
    "- the expected cost for a house with 0 bedrooms and 0 bathrooms, and no basement is 80000, \n",
    "- each bedroom adds 30000 to the expected cost,\n",
    "- each bathroom adds 10000 to the expected cost, and\n",
    "- a basement adds 40000 to the expected cost.\n",
    "\n",
    "For instance,\n",
    "- a house with 1 bedroom, 1 bathroom, and no basement has an expected cost of 80000 + 30000 + 10000 = 120000.  This value will be calculated with `get_expected_cost(1, 1, False)`.\n",
    "- a house with 2 bedrooms, 1 bathroom, and a basement has an expected cost of 80000 + 2*30000 + 10000 + 40000 = 190000.  This value will be calculated with `get_expected_cost(2, 1, True)`.\n",
    "\n",
    "Remember you can always get a hint by uncommenting `q3.hint()` in the code cell following the next!"
   ]
  },
  {
   "cell_type": "code",
   "execution_count": 7,
   "id": "64207f06",
   "metadata": {
    "execution": {
     "iopub.execute_input": "2025-02-26T10:52:42.329588Z",
     "iopub.status.busy": "2025-02-26T10:52:42.329215Z",
     "iopub.status.idle": "2025-02-26T10:52:42.339549Z",
     "shell.execute_reply": "2025-02-26T10:52:42.338472Z"
    },
    "papermill": {
     "duration": 0.018961,
     "end_time": "2025-02-26T10:52:42.341308",
     "exception": false,
     "start_time": "2025-02-26T10:52:42.322347",
     "status": "completed"
    },
    "tags": []
   },
   "outputs": [
    {
     "name": "stdout",
     "output_type": "stream",
     "text": [
      "120000\n",
      "190000\n",
      "230000\n",
      "250000\n"
     ]
    },
    {
     "data": {
      "application/javascript": [
       "parent.postMessage({\"jupyterEvent\": \"custom.exercise_interaction\", \"data\": {\"outcomeType\": 1, \"valueTowardsCompletion\": 0.2, \"interactionType\": 1, \"questionType\": 2, \"questionId\": \"3_EstimateHouseValueBool\", \"learnToolsVersion\": \"0.3.4\", \"failureMessage\": \"\", \"exceptionClass\": \"\", \"trace\": \"\"}}, \"*\")"
      ],
      "text/plain": [
       "<IPython.core.display.Javascript object>"
      ]
     },
     "metadata": {},
     "output_type": "display_data"
    },
    {
     "data": {
      "text/markdown": [
       "<span style=\"color:#33cc33\">Correct</span>"
      ],
      "text/plain": [
       "Correct"
      ]
     },
     "metadata": {},
     "output_type": "display_data"
    }
   ],
   "source": [
    "# TODO: Complete the function\n",
    "def get_expected_cost(beds, baths, has_basement):\n",
    "    value = (80000+30000*beds+10000*baths+40000*has_basement)\n",
    "    print (value)\n",
    "    return value\n",
    "\n",
    "# Check your answer \n",
    "q3.check()"
   ]
  },
  {
   "cell_type": "code",
   "execution_count": 8,
   "id": "9eb54a06",
   "metadata": {
    "execution": {
     "iopub.execute_input": "2025-02-26T10:52:42.355645Z",
     "iopub.status.busy": "2025-02-26T10:52:42.355262Z",
     "iopub.status.idle": "2025-02-26T10:52:42.365647Z",
     "shell.execute_reply": "2025-02-26T10:52:42.364734Z"
    },
    "papermill": {
     "duration": 0.019358,
     "end_time": "2025-02-26T10:52:42.367182",
     "exception": false,
     "start_time": "2025-02-26T10:52:42.347824",
     "status": "completed"
    },
    "tags": []
   },
   "outputs": [
    {
     "data": {
      "application/javascript": [
       "parent.postMessage({\"jupyterEvent\": \"custom.exercise_interaction\", \"data\": {\"outcomeType\": 3, \"exceptionClass\": \"StdinNotImplementedError\", \"trace\": \"  File \\\"/usr/local/lib/python3.10/dist-packages/learntools/core/problem.py\\\", line 239, in check\\n    actual = fn(*args)\\n\\n  File \\\"<ipython-input-8-d75bfc9f3464>\\\", line 3, in get_expected_cost\\n    beds= float (input('enter number of beds'))\\n\\n  File \\\"/usr/local/lib/python3.10/dist-packages/ipykernel/kernelbase.py\\\", line 848, in raw_input\\n    raise StdinNotImplementedError(\\n\", \"failureMessage\": \"When calling your function with arguments `[1, 1, False]`, Python raised the following exception... **`StdinNotImplementedError: raw_input was called, but this frontend does not support input requests.`**\", \"interactionType\": 1, \"questionType\": 2, \"questionId\": \"3_EstimateHouseValueBool\", \"learnToolsVersion\": \"0.3.4\", \"valueTowardsCompletion\": 0.0}}, \"*\")"
      ],
      "text/plain": [
       "<IPython.core.display.Javascript object>"
      ]
     },
     "metadata": {},
     "output_type": "display_data"
    },
    {
     "data": {
      "text/markdown": [
       "<span style=\"color:#cc3333\">Incorrect:</span> When calling your function with arguments `[1, 1, False]`, Python raised the following exception... **`StdinNotImplementedError: raw_input was called, but this frontend does not support input requests.`**"
      ],
      "text/plain": [
       "Incorrect: When calling your function with arguments `[1, 1, False]`, Python raised the following exception... **`StdinNotImplementedError: raw_input was called, but this frontend does not support input requests.`**"
      ]
     },
     "metadata": {},
     "output_type": "display_data"
    }
   ],
   "source": [
    "# TODO: Complete the function\n",
    "def get_expected_cost(beds, baths, has_basement):\n",
    "    beds= float (input('enter number of beds'))\n",
    "    baths= float(input('enter number of baths'))\n",
    "    value = (80000+30000*beds+10000*baths+40000*has_basement)\n",
    "    print (value)\n",
    "    return value\n",
    "# example\n",
    "    get_expected_cost(3,3,false)\n",
    "\n",
    "# Check your answer \n",
    "q3.check()"
   ]
  },
  {
   "cell_type": "code",
   "execution_count": 9,
   "id": "bb193a92",
   "metadata": {
    "execution": {
     "iopub.execute_input": "2025-02-26T10:52:42.381976Z",
     "iopub.status.busy": "2025-02-26T10:52:42.381626Z",
     "iopub.status.idle": "2025-02-26T10:52:42.385307Z",
     "shell.execute_reply": "2025-02-26T10:52:42.384307Z"
    },
    "papermill": {
     "duration": 0.012767,
     "end_time": "2025-02-26T10:52:42.386891",
     "exception": false,
     "start_time": "2025-02-26T10:52:42.374124",
     "status": "completed"
    },
    "tags": []
   },
   "outputs": [],
   "source": [
    "# Uncomment to see a hint\n",
    "#q3.hint()\n",
    "\n",
    "# Uncomment to view the solution\n",
    "#q3.solution()"
   ]
  },
  {
   "cell_type": "markdown",
   "id": "3a4c2fd4",
   "metadata": {
    "papermill": {
     "duration": 0.0061,
     "end_time": "2025-02-26T10:52:42.399481",
     "exception": false,
     "start_time": "2025-02-26T10:52:42.393381",
     "status": "completed"
    },
    "tags": []
   },
   "source": [
    "# Question 4\n",
    "\n",
    "We'll continue our study of boolean arithmetic.  For this question, your task is to provide a description of what happpens when you add booleans. \n",
    "\n",
    "Use the next code cell for your investigation.  Feel free to add or remove any lines of code - use it as your workspace!"
   ]
  },
  {
   "cell_type": "code",
   "execution_count": 10,
   "id": "5dc5133f",
   "metadata": {
    "execution": {
     "iopub.execute_input": "2025-02-26T10:52:42.414294Z",
     "iopub.status.busy": "2025-02-26T10:52:42.413936Z",
     "iopub.status.idle": "2025-02-26T10:52:42.420228Z",
     "shell.execute_reply": "2025-02-26T10:52:42.419146Z"
    },
    "papermill": {
     "duration": 0.0155,
     "end_time": "2025-02-26T10:52:42.422079",
     "exception": false,
     "start_time": "2025-02-26T10:52:42.406579",
     "status": "completed"
    },
    "tags": []
   },
   "outputs": [
    {
     "name": "stdout",
     "output_type": "stream",
     "text": [
      "0\n",
      "1\n",
      "1\n",
      "2\n",
      "3\n",
      "2\n"
     ]
    }
   ],
   "source": [
    "print(False + False)\n",
    "print(True + False)\n",
    "print(False + True)\n",
    "print(True + True)\n",
    "print(False + True + True + True)\n",
    "print((False*True)+True + True)"
   ]
  },
  {
   "cell_type": "markdown",
   "id": "8af4394c",
   "metadata": {
    "papermill": {
     "duration": 0.006867,
     "end_time": "2025-02-26T10:52:42.436132",
     "exception": false,
     "start_time": "2025-02-26T10:52:42.429265",
     "status": "completed"
    },
    "tags": []
   },
   "source": [
    "Once you have an answer, run the code cell below to see the solution.  Viewing the solution will give you credit for answering the problem."
   ]
  },
  {
   "cell_type": "code",
   "execution_count": 11,
   "id": "db0bf7d5",
   "metadata": {
    "execution": {
     "iopub.execute_input": "2025-02-26T10:52:42.451167Z",
     "iopub.status.busy": "2025-02-26T10:52:42.450805Z",
     "iopub.status.idle": "2025-02-26T10:52:42.457685Z",
     "shell.execute_reply": "2025-02-26T10:52:42.456756Z"
    },
    "papermill": {
     "duration": 0.016149,
     "end_time": "2025-02-26T10:52:42.459255",
     "exception": false,
     "start_time": "2025-02-26T10:52:42.443106",
     "status": "completed"
    },
    "tags": []
   },
   "outputs": [
    {
     "data": {
      "application/javascript": [
       "parent.postMessage({\"jupyterEvent\": \"custom.exercise_interaction\", \"data\": {\"outcomeType\": 1, \"valueTowardsCompletion\": 0.2, \"interactionType\": 1, \"questionType\": 4, \"questionId\": \"4_AddingBooleans\", \"learnToolsVersion\": \"0.3.4\", \"failureMessage\": \"\", \"exceptionClass\": \"\", \"trace\": \"\"}}, \"*\")"
      ],
      "text/plain": [
       "<IPython.core.display.Javascript object>"
      ]
     },
     "metadata": {},
     "output_type": "display_data"
    },
    {
     "data": {
      "text/markdown": [
       "<span style=\"color:#33cc33\">Correct:</span> \n",
       "\n",
       "When you add booleans, adding `False` is equivalent to adding 0, and adding `True` is equivalent to adding 1."
      ],
      "text/plain": [
       "Correct: \n",
       "\n",
       "When you add booleans, adding `False` is equivalent to adding 0, and adding `True` is equivalent to adding 1."
      ]
     },
     "metadata": {},
     "output_type": "display_data"
    }
   ],
   "source": [
    "# Check your answer (Run this code cell to receive credit!)\n",
    "q4.check()"
   ]
  },
  {
   "cell_type": "markdown",
   "id": "38d9db48",
   "metadata": {
    "papermill": {
     "duration": 0.006531,
     "end_time": "2025-02-26T10:52:42.472717",
     "exception": false,
     "start_time": "2025-02-26T10:52:42.466186",
     "status": "completed"
    },
    "tags": []
   },
   "source": [
    "# 🌶️ Question 5\n",
    "\n",
    "You own an online shop where you sell rings with custom engravings.  You offer both gold plated and solid gold rings.\n",
    "- Gold plated rings have a base cost of \\\\$50, and you charge \\\\$7 per engraved unit.  \n",
    "- Solid gold rings have a base cost of \\\\$100, and you charge \\\\$10 per engraved unit.\n",
    "- Spaces and punctuation are counted as engraved units.\n",
    "\n",
    "Write a function `cost_of_project()` that takes two arguments:\n",
    "- `engraving` - a Python string with the text of the engraving\n",
    "- `solid_gold` - a Boolean that indicates whether the ring is solid gold\n",
    "\n",
    "It should return the cost of the project.  This question should be fairly challenging, and you may need a hint."
   ]
  },
  {
   "cell_type": "code",
   "execution_count": 12,
   "id": "fde5dbe0",
   "metadata": {
    "execution": {
     "iopub.execute_input": "2025-02-26T10:52:42.487178Z",
     "iopub.status.busy": "2025-02-26T10:52:42.486833Z",
     "iopub.status.idle": "2025-02-26T10:52:42.496291Z",
     "shell.execute_reply": "2025-02-26T10:52:42.495415Z"
    },
    "papermill": {
     "duration": 0.018669,
     "end_time": "2025-02-26T10:52:42.497957",
     "exception": false,
     "start_time": "2025-02-26T10:52:42.479288",
     "status": "completed"
    },
    "tags": []
   },
   "outputs": [
    {
     "name": "stdout",
     "output_type": "stream",
     "text": [
      "240\n",
      "120\n",
      "160\n",
      "71\n"
     ]
    },
    {
     "data": {
      "application/javascript": [
       "parent.postMessage({\"jupyterEvent\": \"custom.exercise_interaction\", \"data\": {\"outcomeType\": 1, \"valueTowardsCompletion\": 0.2, \"interactionType\": 1, \"questionType\": 2, \"questionId\": \"5_CustomEngravings\", \"learnToolsVersion\": \"0.3.4\", \"failureMessage\": \"\", \"exceptionClass\": \"\", \"trace\": \"\"}}, \"*\")"
      ],
      "text/plain": [
       "<IPython.core.display.Javascript object>"
      ]
     },
     "metadata": {},
     "output_type": "display_data"
    },
    {
     "data": {
      "text/markdown": [
       "<span style=\"color:#33cc33\">Correct</span>"
      ],
      "text/plain": [
       "Correct"
      ]
     },
     "metadata": {},
     "output_type": "display_data"
    }
   ],
   "source": [
    "def cost_of_project(engraving, solid_gold):\n",
    "    cost = solid_gold * (100 + 10 * len(engraving)) + (not solid_gold) * (50 + 7 * len(engraving))\n",
    "    print(cost)\n",
    "    return cost\n",
    "\n",
    "# Check your answer\n",
    "q5.check()"
   ]
  },
  {
   "cell_type": "code",
   "execution_count": 13,
   "id": "51c63087",
   "metadata": {
    "execution": {
     "iopub.execute_input": "2025-02-26T10:52:42.513777Z",
     "iopub.status.busy": "2025-02-26T10:52:42.513388Z",
     "iopub.status.idle": "2025-02-26T10:52:42.517384Z",
     "shell.execute_reply": "2025-02-26T10:52:42.516233Z"
    },
    "papermill": {
     "duration": 0.013771,
     "end_time": "2025-02-26T10:52:42.518955",
     "exception": false,
     "start_time": "2025-02-26T10:52:42.505184",
     "status": "completed"
    },
    "tags": []
   },
   "outputs": [],
   "source": [
    "# Uncomment to see a hint\n",
    "#q5.hint()\n",
    "\n",
    "# Uncomment to view the solution\n",
    "#q5.solution()"
   ]
  },
  {
   "cell_type": "markdown",
   "id": "eacac165",
   "metadata": {
    "papermill": {
     "duration": 0.006842,
     "end_time": "2025-02-26T10:52:42.533234",
     "exception": false,
     "start_time": "2025-02-26T10:52:42.526392",
     "status": "completed"
    },
    "tags": []
   },
   "source": [
    "Run the next code cell to calculate the cost of engraving `Charlie+Denver` on a solid gold ring."
   ]
  },
  {
   "cell_type": "code",
   "execution_count": 14,
   "id": "4233ee44",
   "metadata": {
    "execution": {
     "iopub.execute_input": "2025-02-26T10:52:42.548976Z",
     "iopub.status.busy": "2025-02-26T10:52:42.548609Z",
     "iopub.status.idle": "2025-02-26T10:52:42.554056Z",
     "shell.execute_reply": "2025-02-26T10:52:42.552958Z"
    },
    "papermill": {
     "duration": 0.015477,
     "end_time": "2025-02-26T10:52:42.555861",
     "exception": false,
     "start_time": "2025-02-26T10:52:42.540384",
     "status": "completed"
    },
    "tags": []
   },
   "outputs": [
    {
     "name": "stdout",
     "output_type": "stream",
     "text": [
      "240\n",
      "240\n"
     ]
    }
   ],
   "source": [
    "project_one = cost_of_project(\"Charlie+Denver\", True)\n",
    "print(project_one)"
   ]
  },
  {
   "cell_type": "markdown",
   "id": "3a362ff2",
   "metadata": {
    "papermill": {
     "duration": 0.007288,
     "end_time": "2025-02-26T10:52:42.570388",
     "exception": false,
     "start_time": "2025-02-26T10:52:42.563100",
     "status": "completed"
    },
    "tags": []
   },
   "source": [
    "Use the next code cell to calculate the cost of engraving `08/10/2000` on a gold plated ring."
   ]
  },
  {
   "cell_type": "code",
   "execution_count": 15,
   "id": "b5d229a5",
   "metadata": {
    "execution": {
     "iopub.execute_input": "2025-02-26T10:52:42.585920Z",
     "iopub.status.busy": "2025-02-26T10:52:42.585490Z",
     "iopub.status.idle": "2025-02-26T10:52:42.590618Z",
     "shell.execute_reply": "2025-02-26T10:52:42.589780Z"
    },
    "papermill": {
     "duration": 0.014628,
     "end_time": "2025-02-26T10:52:42.592228",
     "exception": false,
     "start_time": "2025-02-26T10:52:42.577600",
     "status": "completed"
    },
    "tags": []
   },
   "outputs": [
    {
     "name": "stdout",
     "output_type": "stream",
     "text": [
      "120\n",
      "120\n"
     ]
    }
   ],
   "source": [
    "project_two = cost_of_project(\"08/10/2000\", False)\n",
    "print(project_two)"
   ]
  },
  {
   "cell_type": "markdown",
   "id": "739b5f19",
   "metadata": {
    "papermill": {
     "duration": 0.007091,
     "end_time": "2025-02-26T10:52:42.606748",
     "exception": false,
     "start_time": "2025-02-26T10:52:42.599657",
     "status": "completed"
    },
    "tags": []
   },
   "source": [
    "# Keep going\n",
    "\n",
    "Continue to the next lesson to **[learn about conditions and conditional statements](https://www.kaggle.com/alexisbcook/conditions-and-conditional-statements)**."
   ]
  },
  {
   "cell_type": "markdown",
   "id": "07650fa2",
   "metadata": {
    "papermill": {
     "duration": 0.006943,
     "end_time": "2025-02-26T10:52:42.620872",
     "exception": false,
     "start_time": "2025-02-26T10:52:42.613929",
     "status": "completed"
    },
    "tags": []
   },
   "source": [
    "---\n",
    "\n",
    "\n",
    "\n",
    "\n",
    "*Have questions or comments? Visit the [course discussion forum](https://www.kaggle.com/learn/intro-to-programming/discussion) to chat with other learners.*"
   ]
  }
 ],
 "metadata": {
  "kaggle": {
   "accelerator": "none",
   "dataSources": [],
   "isGpuEnabled": false,
   "isInternetEnabled": false,
   "language": "python",
   "sourceType": "notebook"
  },
  "kernelspec": {
   "display_name": "Python 3",
   "language": "python",
   "name": "python3"
  },
  "language_info": {
   "codemirror_mode": {
    "name": "ipython",
    "version": 3
   },
   "file_extension": ".py",
   "mimetype": "text/x-python",
   "name": "python",
   "nbconvert_exporter": "python",
   "pygments_lexer": "ipython3",
   "version": "3.10.12"
  },
  "papermill": {
   "default_parameters": {},
   "duration": 4.745661,
   "end_time": "2025-02-26T10:52:43.147659",
   "environment_variables": {},
   "exception": null,
   "input_path": "__notebook__.ipynb",
   "output_path": "__notebook__.ipynb",
   "parameters": {},
   "start_time": "2025-02-26T10:52:38.401998",
   "version": "2.3.3"
  }
 },
 "nbformat": 4,
 "nbformat_minor": 5
}
